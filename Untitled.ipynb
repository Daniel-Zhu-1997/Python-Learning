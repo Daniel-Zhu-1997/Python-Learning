{
 "cells": [
  {
   "cell_type": "code",
   "execution_count": 7,
   "metadata": {},
   "outputs": [
    {
     "name": "stdout",
     "output_type": "stream",
     "text": [
      "[]\n",
      "None Pass\n"
     ]
    }
   ],
   "source": [
    "# climb bugs\n",
    "# -*- coding: utf-8 -*-\n",
    "\n",
    "import os, sqlite3\n",
    "\n",
    "db_file =  'test.db'\n",
    "\n",
    "# 初始数据:\n",
    "'''\n",
    "conn = sqlite3.connect(db_file)\n",
    "cursor = conn.cursor()\n",
    "cursor.execute('create table user(id varchar(20) primary key, name varchar(20), score int)')\n",
    "cursor.execute(\"insert into user values ('A-001', 'Adam', 95)\")\n",
    "cursor.execute(\"insert into user values ('A-002', 'Bart', 62)\")\n",
    "cursor.execute(\"insert into user values ('A-003', 'Lisa', 78)\")\n",
    "cursor.execute(\"insert into user values ('A-004', 'Lisa2', 78)\")\n",
    "cursor.close()\n",
    "conn.commit()\n",
    "conn.close()\n",
    "'''\n",
    "def get_score_in(low, high):\n",
    "    ' 返回指定分数区间的名字，按分数从低到高排序 '\n",
    "    conn = sqlite3.connect(db_file)\n",
    "    cursor = conn.cursor()\n",
    "    cursor.execute('''SELECT name,score\n",
    "FROM user\n",
    "WHERE score > ? and score < ?\n",
    "ORDER BY score ASC;''', (low, high))\n",
    "    values = cursor.fetchall()\n",
    "    print(values)\n",
    "    cursor.close()\n",
    "    conn.close()\n",
    "    \n",
    "# 测试:\n",
    "# assert get_score_in(80, 95) == ['Adam'], get_score_in(80, 95)\n",
    "# assert get_score_in(60, 80) == ['Bart', 'Lisa'], get_score_in(60, 80)\n",
    "# assert get_score_in(60, 100) == ['Bart', 'Lisa', 'Adam'], get_score_in(60, 100)\n",
    "\n",
    "print(get_score_in(80, 95), 'Pass')"
   ]
  },
  {
   "cell_type": "code",
   "execution_count": null,
   "metadata": {},
   "outputs": [],
   "source": []
  }
 ],
 "metadata": {
  "kernelspec": {
   "display_name": "Python 3",
   "language": "python",
   "name": "python3"
  },
  "language_info": {
   "codemirror_mode": {
    "name": "ipython",
    "version": 3
   },
   "file_extension": ".py",
   "mimetype": "text/x-python",
   "name": "python",
   "nbconvert_exporter": "python",
   "pygments_lexer": "ipython3",
   "version": "3.7.3"
  }
 },
 "nbformat": 4,
 "nbformat_minor": 2
}
